{
 "cells": [
  {
   "cell_type": "markdown",
   "metadata": {},
   "source": [
    "# Visualizing Chemical Elements Properties"
   ]
  },
  {
   "cell_type": "markdown",
   "metadata": {},
   "source": [
    "Not a subject matter expert but this is an attempt to practive a bit of visualisation using matplotlib. \n",
    "I stumbled across this data in a collaboration chat that I am part of and found very interesting."
   ]
  },
  {
   "cell_type": "code",
   "execution_count": 1,
   "metadata": {
    "collapsed": true
   },
   "outputs": [],
   "source": [
    "#Import packages \n",
    "import pandas as pd \n",
    "import matplotlib.pyplot as plt\n",
    "%matplotlib inline\n",
    "import seaborn as sns\n",
    "import numpy as np"
   ]
  },
  {
   "cell_type": "code",
   "execution_count": 2,
   "metadata": {
    "collapsed": true
   },
   "outputs": [],
   "source": [
    "atomic = pd.read_csv('Atomic.csv',sep=';') \n",
    "#Interesting that the file has a ';' for separation"
   ]
  },
  {
   "cell_type": "code",
   "execution_count": 3,
   "metadata": {
    "scrolled": true
   },
   "outputs": [
    {
     "data": {
      "text/html": [
       "<div>\n",
       "<style>\n",
       "    .dataframe thead tr:only-child th {\n",
       "        text-align: right;\n",
       "    }\n",
       "\n",
       "    .dataframe thead th {\n",
       "        text-align: left;\n",
       "    }\n",
       "\n",
       "    .dataframe tbody tr th {\n",
       "        vertical-align: top;\n",
       "    }\n",
       "</style>\n",
       "<table border=\"1\" class=\"dataframe\">\n",
       "  <thead>\n",
       "    <tr style=\"text-align: right;\">\n",
       "      <th></th>\n",
       "      <th>Unnamed: 0</th>\n",
       "      <th>melting point [K]</th>\n",
       "      <th>boiling point [K]</th>\n",
       "      <th>atomic radius [pm]</th>\n",
       "      <th>covalent radius [pm]</th>\n",
       "      <th>specific volume [cm3]</th>\n",
       "      <th>specific heat [J/(Kg K)]</th>\n",
       "      <th>thermal conductivity [W/(m k)]</th>\n",
       "      <th>Pauling electronegativity [Pauling scale]</th>\n",
       "      <th>first ionisation energy [kJ/mol]</th>\n",
       "      <th>lattice constant [pm]</th>\n",
       "    </tr>\n",
       "  </thead>\n",
       "  <tbody>\n",
       "    <tr>\n",
       "      <th>0</th>\n",
       "      <td>H</td>\n",
       "      <td>14.01</td>\n",
       "      <td>20.28</td>\n",
       "      <td>25</td>\n",
       "      <td>31</td>\n",
       "      <td>11.42</td>\n",
       "      <td>14300.0</td>\n",
       "      <td>0.18</td>\n",
       "      <td>2.20</td>\n",
       "      <td>1312.0</td>\n",
       "      <td>470.00</td>\n",
       "    </tr>\n",
       "    <tr>\n",
       "      <th>1</th>\n",
       "      <td>Li</td>\n",
       "      <td>453.69</td>\n",
       "      <td>1615.00</td>\n",
       "      <td>145</td>\n",
       "      <td>128</td>\n",
       "      <td>13.02</td>\n",
       "      <td>3570.0</td>\n",
       "      <td>85.00</td>\n",
       "      <td>0.98</td>\n",
       "      <td>520.2</td>\n",
       "      <td>531.00</td>\n",
       "    </tr>\n",
       "    <tr>\n",
       "      <th>2</th>\n",
       "      <td>Be</td>\n",
       "      <td>1560.00</td>\n",
       "      <td>2742.00</td>\n",
       "      <td>105</td>\n",
       "      <td>96</td>\n",
       "      <td>4.85</td>\n",
       "      <td>1820.0</td>\n",
       "      <td>190.00</td>\n",
       "      <td>1.57</td>\n",
       "      <td>899.5</td>\n",
       "      <td>228.58</td>\n",
       "    </tr>\n",
       "    <tr>\n",
       "      <th>3</th>\n",
       "      <td>B</td>\n",
       "      <td>2349.00</td>\n",
       "      <td>4200.00</td>\n",
       "      <td>85</td>\n",
       "      <td>84</td>\n",
       "      <td>4.39</td>\n",
       "      <td>1039.0</td>\n",
       "      <td>27.00</td>\n",
       "      <td>2.04</td>\n",
       "      <td>800.6</td>\n",
       "      <td>506.00</td>\n",
       "    </tr>\n",
       "    <tr>\n",
       "      <th>4</th>\n",
       "      <td>C</td>\n",
       "      <td>3800.00</td>\n",
       "      <td>4300.00</td>\n",
       "      <td>70</td>\n",
       "      <td>76</td>\n",
       "      <td>5.29</td>\n",
       "      <td>710.0</td>\n",
       "      <td>140.00</td>\n",
       "      <td>2.55</td>\n",
       "      <td>1086.5</td>\n",
       "      <td>246.40</td>\n",
       "    </tr>\n",
       "  </tbody>\n",
       "</table>\n",
       "</div>"
      ],
      "text/plain": [
       "  Unnamed: 0  melting point [K]  boiling point [K]  atomic radius [pm]  \\\n",
       "0          H              14.01              20.28                  25   \n",
       "1         Li             453.69            1615.00                 145   \n",
       "2         Be            1560.00            2742.00                 105   \n",
       "3          B            2349.00            4200.00                  85   \n",
       "4          C            3800.00            4300.00                  70   \n",
       "\n",
       "   covalent radius [pm]  specific volume [cm3]  specific heat [J/(Kg K)]  \\\n",
       "0                    31                  11.42                   14300.0   \n",
       "1                   128                  13.02                    3570.0   \n",
       "2                    96                   4.85                    1820.0   \n",
       "3                    84                   4.39                    1039.0   \n",
       "4                    76                   5.29                     710.0   \n",
       "\n",
       "   thermal conductivity [W/(m k)]  Pauling electronegativity [Pauling scale]  \\\n",
       "0                            0.18                                       2.20   \n",
       "1                           85.00                                       0.98   \n",
       "2                          190.00                                       1.57   \n",
       "3                           27.00                                       2.04   \n",
       "4                          140.00                                       2.55   \n",
       "\n",
       "   first ionisation energy [kJ/mol]   lattice constant [pm]  \n",
       "0                            1312.0                  470.00  \n",
       "1                             520.2                  531.00  \n",
       "2                             899.5                  228.58  \n",
       "3                             800.6                  506.00  \n",
       "4                            1086.5                  246.40  "
      ]
     },
     "execution_count": 3,
     "metadata": {},
     "output_type": "execute_result"
    }
   ],
   "source": [
    "# Inspect first 5 rows\n",
    "atomic.head() "
   ]
  },
  {
   "cell_type": "markdown",
   "metadata": {
    "collapsed": true
   },
   "source": [
    "Noticed that the column index 0 is unnamed. Let's fix it"
   ]
  },
  {
   "cell_type": "code",
   "execution_count": 4,
   "metadata": {},
   "outputs": [
    {
     "data": {
      "text/plain": [
       "Index(['Unnamed: 0', 'melting point [K]', 'boiling point [K]',\n",
       "       'atomic radius [pm]', 'covalent radius [pm]', 'specific volume [cm3]',\n",
       "       'specific heat [J/(Kg K)]', 'thermal conductivity [W/(m k)]',\n",
       "       'Pauling electronegativity [Pauling scale]',\n",
       "       'first ionisation energy [kJ/mol]', ' lattice constant [pm]'],\n",
       "      dtype='object')"
      ]
     },
     "execution_count": 4,
     "metadata": {},
     "output_type": "execute_result"
    }
   ],
   "source": [
    "# check columns\n",
    "atomic.columns "
   ]
  },
  {
   "cell_type": "code",
   "execution_count": 5,
   "metadata": {
    "collapsed": true
   },
   "outputs": [],
   "source": [
    "atomic= atomic.rename(index=str, columns={\"Unnamed: 0\": \"Chemical\"})\n"
   ]
  },
  {
   "cell_type": "code",
   "execution_count": 6,
   "metadata": {},
   "outputs": [
    {
     "data": {
      "text/plain": [
       "Index(['Chemical', 'melting point [K]', 'boiling point [K]',\n",
       "       'atomic radius [pm]', 'covalent radius [pm]', 'specific volume [cm3]',\n",
       "       'specific heat [J/(Kg K)]', 'thermal conductivity [W/(m k)]',\n",
       "       'Pauling electronegativity [Pauling scale]',\n",
       "       'first ionisation energy [kJ/mol]', ' lattice constant [pm]'],\n",
       "      dtype='object')"
      ]
     },
     "execution_count": 6,
     "metadata": {},
     "output_type": "execute_result"
    }
   ],
   "source": [
    "# check again\n",
    "atomic.columns "
   ]
  },
  {
   "cell_type": "code",
   "execution_count": 7,
   "metadata": {},
   "outputs": [
    {
     "name": "stdout",
     "output_type": "stream",
     "text": [
      "<class 'pandas.core.frame.DataFrame'>\n",
      "Index: 81 entries, 0 to 80\n",
      "Data columns (total 11 columns):\n",
      "Chemical                                     81 non-null object\n",
      "melting point [K]                            81 non-null float64\n",
      "boiling point [K]                            81 non-null float64\n",
      "atomic radius [pm]                           81 non-null int64\n",
      "covalent radius [pm]                         81 non-null int64\n",
      "specific volume [cm3]                        81 non-null float64\n",
      "specific heat [J/(Kg K)]                     81 non-null float64\n",
      "thermal conductivity [W/(m k)]               81 non-null float64\n",
      "Pauling electronegativity [Pauling scale]    81 non-null float64\n",
      "first ionisation energy [kJ/mol]             81 non-null float64\n",
      " lattice constant [pm]                       81 non-null float64\n",
      "dtypes: float64(8), int64(2), object(1)\n",
      "memory usage: 7.6+ KB\n"
     ]
    }
   ],
   "source": [
    "# inspect column type and missing values\n",
    "atomic.info() "
   ]
  },
  {
   "cell_type": "markdown",
   "metadata": {},
   "source": [
    "WOW! there is not missing values and most of the fields are numeric except the Chemical element symbol name"
   ]
  },
  {
   "cell_type": "code",
   "execution_count": 8,
   "metadata": {},
   "outputs": [
    {
     "data": {
      "text/plain": [
       "array([[<matplotlib.axes._subplots.AxesSubplot object at 0x116032fd0>,\n",
       "        <matplotlib.axes._subplots.AxesSubplot object at 0x11938ab00>,\n",
       "        <matplotlib.axes._subplots.AxesSubplot object at 0x1193d1278>],\n",
       "       [<matplotlib.axes._subplots.AxesSubplot object at 0x11945f0f0>,\n",
       "        <matplotlib.axes._subplots.AxesSubplot object at 0x11946e630>,\n",
       "        <matplotlib.axes._subplots.AxesSubplot object at 0x11946e668>],\n",
       "       [<matplotlib.axes._subplots.AxesSubplot object at 0x119580898>,\n",
       "        <matplotlib.axes._subplots.AxesSubplot object at 0x1195ee630>,\n",
       "        <matplotlib.axes._subplots.AxesSubplot object at 0x11964cef0>],\n",
       "       [<matplotlib.axes._subplots.AxesSubplot object at 0x1196cb208>,\n",
       "        <matplotlib.axes._subplots.AxesSubplot object at 0x11972e198>,\n",
       "        <matplotlib.axes._subplots.AxesSubplot object at 0x119764ac8>]], dtype=object)"
      ]
     },
     "execution_count": 8,
     "metadata": {},
     "output_type": "execute_result"
    },
    {
     "data": {
      "image/png": "[encoded data removed]",
      "text/plain": [
       "<matplotlib.figure.Figure at 0x1160328d0>"
      ]
     },
     "metadata": {},
     "output_type": "display_data"
    }
   ],
   "source": [
    "# plot a histogram for all.\n",
    "atomic.hist(bins=50,figsize=(20,15))\n",
    "\n",
    "# pandas and pyplot are automatically clever enough to ingnore the num numerical columns\n",
    "\n"
   ]
  },
  {
   "cell_type": "markdown",
   "metadata": {},
   "source": [
    "interesting 🤔! I know bolocks about chemistry. I was not too bad at school but for sure not the best. But just by looking at the histogram we can see some interesting things...\n",
    "\n",
    "Covalent Radius and Atomic Radius are the properties that looks the most normally distributed and the others have long tails and are more \"random\"\n",
    "\n",
    "Let's check for correlation"
   ]
  },
  {
   "cell_type": "code",
   "execution_count": 9,
   "metadata": {},
   "outputs": [
    {
     "data": {
      "text/plain": [
       "<matplotlib.axes._subplots.AxesSubplot at 0x11989fcf8>"
      ]
     },
     "execution_count": 9,
     "metadata": {},
     "output_type": "execute_result"
    },
    {
     "data": {
      "image/png": "[encoded data removed]",
      "text/plain": [
       "<matplotlib.figure.Figure at 0x119849a90>"
      ]
     },
     "metadata": {},
     "output_type": "display_data"
    }
   ],
   "source": [
    "# Compute the correlation matrix\n",
    "corr = atomic.corr()\n",
    "\n",
    "# Generate a mask for the upper triangle\n",
    "mask = np.zeros_like(corr, dtype=np.bool)\n",
    "mask[np.triu_indices_from(mask)] = True\n",
    "\n",
    "# Set up the matplotlib figure\n",
    "f, ax = plt.subplots(figsize=(11, 9))\n",
    "\n",
    "# Generate a custom diverging colormap\n",
    "cmap = sns.diverging_palette(220, 10, as_cmap=True)\n",
    "\n",
    "# Draw the heatmap with the mask and correct aspect ratio\n",
    "sns.heatmap(corr, mask=mask, cmap=cmap, vmax=.3, center=0,\n",
    "            square=True, linewidths=.5, cbar_kws={\"shrink\": .5})"
   ]
  },
  {
   "cell_type": "markdown",
   "metadata": {},
   "source": [
    "\"An image is not only better than a thousand words but is also better than a data table with lots of numbers\" Anonymous\n",
    "\n",
    "From the correlation heatmap above what are interestint correlations are\n",
    "\n",
    "boiling point [K] and melting point [K] are highly correlated and this would make sense as they are bothe achieved if heat is applied to the element \n",
    "\n",
    "Again covalent radius [pm] and atomic radius [pm] seems to walk hand in hand as we could observe in the histogram\n",
    "\n",
    "Another interesting point are the invese correlations\n",
    "\n",
    "first ionisation energy [kJ/mol] and atomic radius [pm] are highly inverse correlated and same happens with covalent radius [pm]\n",
    "\n",
    "Surprise that thermal conductivity [W/(m k)] is not too highly correlated to melting and boiling point\n",
    "\n"
   ]
  },
  {
   "cell_type": "code",
   "execution_count": 10,
   "metadata": {},
   "outputs": [
    {
     "data": {
      "text/html": [
       "<div>\n",
       "<style>\n",
       "    .dataframe thead tr:only-child th {\n",
       "        text-align: right;\n",
       "    }\n",
       "\n",
       "    .dataframe thead th {\n",
       "        text-align: left;\n",
       "    }\n",
       "\n",
       "    .dataframe tbody tr th {\n",
       "        vertical-align: top;\n",
       "    }\n",
       "</style>\n",
       "<table border=\"1\" class=\"dataframe\">\n",
       "  <thead>\n",
       "    <tr style=\"text-align: right;\">\n",
       "      <th></th>\n",
       "      <th>melting point [K]</th>\n",
       "      <th>boiling point [K]</th>\n",
       "      <th>atomic radius [pm]</th>\n",
       "      <th>covalent radius [pm]</th>\n",
       "      <th>specific volume [cm3]</th>\n",
       "      <th>specific heat [J/(Kg K)]</th>\n",
       "      <th>thermal conductivity [W/(m k)]</th>\n",
       "      <th>Pauling electronegativity [Pauling scale]</th>\n",
       "      <th>first ionisation energy [kJ/mol]</th>\n",
       "      <th>lattice constant [pm]</th>\n",
       "    </tr>\n",
       "  </thead>\n",
       "  <tbody>\n",
       "    <tr>\n",
       "      <th>melting point [K]</th>\n",
       "      <td>1.000000</td>\n",
       "      <td>0.848481</td>\n",
       "      <td>0.050749</td>\n",
       "      <td>0.195630</td>\n",
       "      <td>-0.444940</td>\n",
       "      <td>-0.216200</td>\n",
       "      <td>0.168217</td>\n",
       "      <td>0.007243</td>\n",
       "      <td>-0.284426</td>\n",
       "      <td>-0.500451</td>\n",
       "    </tr>\n",
       "    <tr>\n",
       "      <th>boiling point [K]</th>\n",
       "      <td>0.848481</td>\n",
       "      <td>1.000000</td>\n",
       "      <td>0.212331</td>\n",
       "      <td>0.334227</td>\n",
       "      <td>-0.417798</td>\n",
       "      <td>-0.253496</td>\n",
       "      <td>0.245905</td>\n",
       "      <td>-0.078565</td>\n",
       "      <td>-0.460164</td>\n",
       "      <td>-0.510852</td>\n",
       "    </tr>\n",
       "    <tr>\n",
       "      <th>atomic radius [pm]</th>\n",
       "      <td>0.050749</td>\n",
       "      <td>0.212331</td>\n",
       "      <td>1.000000</td>\n",
       "      <td>0.928976</td>\n",
       "      <td>0.569630</td>\n",
       "      <td>-0.397055</td>\n",
       "      <td>0.002377</td>\n",
       "      <td>-0.516121</td>\n",
       "      <td>-0.840482</td>\n",
       "      <td>-0.106822</td>\n",
       "    </tr>\n",
       "    <tr>\n",
       "      <th>covalent radius [pm]</th>\n",
       "      <td>0.195630</td>\n",
       "      <td>0.334227</td>\n",
       "      <td>0.928976</td>\n",
       "      <td>1.000000</td>\n",
       "      <td>0.543769</td>\n",
       "      <td>-0.424215</td>\n",
       "      <td>-0.094249</td>\n",
       "      <td>-0.573161</td>\n",
       "      <td>-0.777979</td>\n",
       "      <td>-0.153076</td>\n",
       "    </tr>\n",
       "    <tr>\n",
       "      <th>specific volume [cm3]</th>\n",
       "      <td>-0.444940</td>\n",
       "      <td>-0.417798</td>\n",
       "      <td>0.569630</td>\n",
       "      <td>0.543769</td>\n",
       "      <td>1.000000</td>\n",
       "      <td>-0.086024</td>\n",
       "      <td>-0.273763</td>\n",
       "      <td>-0.355465</td>\n",
       "      <td>-0.237771</td>\n",
       "      <td>0.346573</td>\n",
       "    </tr>\n",
       "    <tr>\n",
       "      <th>specific heat [J/(Kg K)]</th>\n",
       "      <td>-0.216200</td>\n",
       "      <td>-0.253496</td>\n",
       "      <td>-0.397055</td>\n",
       "      <td>-0.424215</td>\n",
       "      <td>-0.086024</td>\n",
       "      <td>1.000000</td>\n",
       "      <td>-0.051353</td>\n",
       "      <td>0.066447</td>\n",
       "      <td>0.250637</td>\n",
       "      <td>0.060684</td>\n",
       "    </tr>\n",
       "    <tr>\n",
       "      <th>thermal conductivity [W/(m k)]</th>\n",
       "      <td>0.168217</td>\n",
       "      <td>0.245905</td>\n",
       "      <td>0.002377</td>\n",
       "      <td>-0.094249</td>\n",
       "      <td>-0.273763</td>\n",
       "      <td>-0.051353</td>\n",
       "      <td>1.000000</td>\n",
       "      <td>0.095161</td>\n",
       "      <td>-0.140275</td>\n",
       "      <td>-0.263871</td>\n",
       "    </tr>\n",
       "    <tr>\n",
       "      <th>Pauling electronegativity [Pauling scale]</th>\n",
       "      <td>0.007243</td>\n",
       "      <td>-0.078565</td>\n",
       "      <td>-0.516121</td>\n",
       "      <td>-0.573161</td>\n",
       "      <td>-0.355465</td>\n",
       "      <td>0.066447</td>\n",
       "      <td>0.095161</td>\n",
       "      <td>1.000000</td>\n",
       "      <td>0.393460</td>\n",
       "      <td>0.168760</td>\n",
       "    </tr>\n",
       "    <tr>\n",
       "      <th>first ionisation energy [kJ/mol]</th>\n",
       "      <td>-0.284426</td>\n",
       "      <td>-0.460164</td>\n",
       "      <td>-0.840482</td>\n",
       "      <td>-0.777979</td>\n",
       "      <td>-0.237771</td>\n",
       "      <td>0.250637</td>\n",
       "      <td>-0.140275</td>\n",
       "      <td>0.393460</td>\n",
       "      <td>1.000000</td>\n",
       "      <td>0.204937</td>\n",
       "    </tr>\n",
       "    <tr>\n",
       "      <th>lattice constant [pm]</th>\n",
       "      <td>-0.500451</td>\n",
       "      <td>-0.510852</td>\n",
       "      <td>-0.106822</td>\n",
       "      <td>-0.153076</td>\n",
       "      <td>0.346573</td>\n",
       "      <td>0.060684</td>\n",
       "      <td>-0.263871</td>\n",
       "      <td>0.168760</td>\n",
       "      <td>0.204937</td>\n",
       "      <td>1.000000</td>\n",
       "    </tr>\n",
       "  </tbody>\n",
       "</table>\n",
       "</div>"
      ],
      "text/plain": [
       "                                           melting point [K]  \\\n",
       "melting point [K]                                   1.000000   \n",
       "boiling point [K]                                   0.848481   \n",
       "atomic radius [pm]                                  0.050749   \n",
       "covalent radius [pm]                                0.195630   \n",
       "specific volume [cm3]                              -0.444940   \n",
       "specific heat [J/(Kg K)]                           -0.216200   \n",
       "thermal conductivity [W/(m k)]                      0.168217   \n",
       "Pauling electronegativity [Pauling scale]           0.007243   \n",
       "first ionisation energy [kJ/mol]                   -0.284426   \n",
       " lattice constant [pm]                             -0.500451   \n",
       "\n",
       "                                           boiling point [K]  \\\n",
       "melting point [K]                                   0.848481   \n",
       "boiling point [K]                                   1.000000   \n",
       "atomic radius [pm]                                  0.212331   \n",
       "covalent radius [pm]                                0.334227   \n",
       "specific volume [cm3]                              -0.417798   \n",
       "specific heat [J/(Kg K)]                           -0.253496   \n",
       "thermal conductivity [W/(m k)]                      0.245905   \n",
       "Pauling electronegativity [Pauling scale]          -0.078565   \n",
       "first ionisation energy [kJ/mol]                   -0.460164   \n",
       " lattice constant [pm]                             -0.510852   \n",
       "\n",
       "                                           atomic radius [pm]  \\\n",
       "melting point [K]                                    0.050749   \n",
       "boiling point [K]                                    0.212331   \n",
       "atomic radius [pm]                                   1.000000   \n",
       "covalent radius [pm]                                 0.928976   \n",
       "specific volume [cm3]                                0.569630   \n",
       "specific heat [J/(Kg K)]                            -0.397055   \n",
       "thermal conductivity [W/(m k)]                       0.002377   \n",
       "Pauling electronegativity [Pauling scale]           -0.516121   \n",
       "first ionisation energy [kJ/mol]                    -0.840482   \n",
       " lattice constant [pm]                              -0.106822   \n",
       "\n",
       "                                           covalent radius [pm]  \\\n",
       "melting point [K]                                      0.195630   \n",
       "boiling point [K]                                      0.334227   \n",
       "atomic radius [pm]                                     0.928976   \n",
       "covalent radius [pm]                                   1.000000   \n",
       "specific volume [cm3]                                  0.543769   \n",
       "specific heat [J/(Kg K)]                              -0.424215   \n",
       "thermal conductivity [W/(m k)]                        -0.094249   \n",
       "Pauling electronegativity [Pauling scale]             -0.573161   \n",
       "first ionisation energy [kJ/mol]                      -0.777979   \n",
       " lattice constant [pm]                                -0.153076   \n",
       "\n",
       "                                           specific volume [cm3]  \\\n",
       "melting point [K]                                      -0.444940   \n",
       "boiling point [K]                                      -0.417798   \n",
       "atomic radius [pm]                                      0.569630   \n",
       "covalent radius [pm]                                    0.543769   \n",
       "specific volume [cm3]                                   1.000000   \n",
       "specific heat [J/(Kg K)]                               -0.086024   \n",
       "thermal conductivity [W/(m k)]                         -0.273763   \n",
       "Pauling electronegativity [Pauling scale]              -0.355465   \n",
       "first ionisation energy [kJ/mol]                       -0.237771   \n",
       " lattice constant [pm]                                  0.346573   \n",
       "\n",
       "                                           specific heat [J/(Kg K)]  \\\n",
       "melting point [K]                                         -0.216200   \n",
       "boiling point [K]                                         -0.253496   \n",
       "atomic radius [pm]                                        -0.397055   \n",
       "covalent radius [pm]                                      -0.424215   \n",
       "specific volume [cm3]                                     -0.086024   \n",
       "specific heat [J/(Kg K)]                                   1.000000   \n",
       "thermal conductivity [W/(m k)]                            -0.051353   \n",
       "Pauling electronegativity [Pauling scale]                  0.066447   \n",
       "first ionisation energy [kJ/mol]                           0.250637   \n",
       " lattice constant [pm]                                     0.060684   \n",
       "\n",
       "                                           thermal conductivity [W/(m k)]  \\\n",
       "melting point [K]                                                0.168217   \n",
       "boiling point [K]                                                0.245905   \n",
       "atomic radius [pm]                                               0.002377   \n",
       "covalent radius [pm]                                            -0.094249   \n",
       "specific volume [cm3]                                           -0.273763   \n",
       "specific heat [J/(Kg K)]                                        -0.051353   \n",
       "thermal conductivity [W/(m k)]                                   1.000000   \n",
       "Pauling electronegativity [Pauling scale]                        0.095161   \n",
       "first ionisation energy [kJ/mol]                                -0.140275   \n",
       " lattice constant [pm]                                          -0.263871   \n",
       "\n",
       "                                           Pauling electronegativity [Pauling scale]  \\\n",
       "melting point [K]                                                           0.007243   \n",
       "boiling point [K]                                                          -0.078565   \n",
       "atomic radius [pm]                                                         -0.516121   \n",
       "covalent radius [pm]                                                       -0.573161   \n",
       "specific volume [cm3]                                                      -0.355465   \n",
       "specific heat [J/(Kg K)]                                                    0.066447   \n",
       "thermal conductivity [W/(m k)]                                              0.095161   \n",
       "Pauling electronegativity [Pauling scale]                                   1.000000   \n",
       "first ionisation energy [kJ/mol]                                            0.393460   \n",
       " lattice constant [pm]                                                      0.168760   \n",
       "\n",
       "                                           first ionisation energy [kJ/mol]  \\\n",
       "melting point [K]                                                 -0.284426   \n",
       "boiling point [K]                                                 -0.460164   \n",
       "atomic radius [pm]                                                -0.840482   \n",
       "covalent radius [pm]                                              -0.777979   \n",
       "specific volume [cm3]                                             -0.237771   \n",
       "specific heat [J/(Kg K)]                                           0.250637   \n",
       "thermal conductivity [W/(m k)]                                    -0.140275   \n",
       "Pauling electronegativity [Pauling scale]                          0.393460   \n",
       "first ionisation energy [kJ/mol]                                   1.000000   \n",
       " lattice constant [pm]                                             0.204937   \n",
       "\n",
       "                                            lattice constant [pm]  \n",
       "melting point [K]                                       -0.500451  \n",
       "boiling point [K]                                       -0.510852  \n",
       "atomic radius [pm]                                      -0.106822  \n",
       "covalent radius [pm]                                    -0.153076  \n",
       "specific volume [cm3]                                    0.346573  \n",
       "specific heat [J/(Kg K)]                                 0.060684  \n",
       "thermal conductivity [W/(m k)]                          -0.263871  \n",
       "Pauling electronegativity [Pauling scale]                0.168760  \n",
       "first ionisation energy [kJ/mol]                         0.204937  \n",
       " lattice constant [pm]                                   1.000000  "
      ]
     },
     "execution_count": 10,
     "metadata": {},
     "output_type": "execute_result"
    }
   ],
   "source": [
    "# print the corr matrix\n",
    "corr"
   ]
  },
  {
   "cell_type": "markdown",
   "metadata": {},
   "source": [
    "Finally I would like to do a final plot to compare Boiling and Melting point and find why some elements this correlation is not very strong"
   ]
  },
  {
   "cell_type": "markdown",
   "metadata": {},
   "source": [
    "Finally I would like to do a final plot to compare Boiling and Melting point and find why some elements this correlation is not very strong"
   ]
  },
  {
   "cell_type": "code",
   "execution_count": 12,
   "metadata": {
    "scrolled": false
   },
   "outputs": [
    {
     "data": {
      "text/plain": [
       "(0.6, 3989.310946818201)"
      ]
     },
     "execution_count": 12,
     "metadata": {},
     "output_type": "execute_result"
    },
    {
     "data": {
      "image/png": "[encoded data removed]",
      "text/plain": [
       "<matplotlib.figure.Figure at 0x11998a710>"
      ]
     },
     "metadata": {},
     "output_type": "display_data"
    }
   ],
   "source": [
    "\n",
    "# Chart figure and axis\n",
    "fig, ax = plt.subplots(figsize=(12,10))\n",
    "\n",
    "# Set Background\n",
    "ax.set_facecolor(\"white\")\n",
    "\n",
    "# Set Style\n",
    "plt.style.use('seaborn')\n",
    "\n",
    "# Plotting Scatter\n",
    "ax.scatter(x=x,y=y,s=size,c=color,cmap='PiYG')\n",
    "\n",
    "# Label datapints\n",
    "for i, txt in enumerate(labels):\n",
    "    ax.annotate(txt, (x[i], y[i]),fontsize=12)\n",
    "\n",
    "# Insert Labels and adjusting Axis Limits    \n",
    "plt.xlabel('boiling point K', fontsize=20)\n",
    "plt.ylabel('melting point K',fontsize=20)\n",
    "plt.title('Boiling x Melting point',fontsize=30)\n",
    "plt.xlim(0,6000)\n",
    "plt.ylim(0.6000)"
   ]
  },
  {
   "cell_type": "markdown",
   "metadata": {},
   "source": [
    "Most of the elements could nicely fit in a line where boiing and melting points grow together.\n",
    "\n",
    "The outliers are Cu,Re and C\n",
    "\n",
    "They are\n",
    "\n",
    "Cu = Copper\n",
    "Re = Rhenium\n",
    "C = Carbon\n",
    "\n"
   ]
  },
  {
   "cell_type": "code",
   "execution_count": 13,
   "metadata": {},
   "outputs": [
    {
     "data": {
      "text/html": [
       "<div>\n",
       "<style>\n",
       "    .dataframe thead tr:only-child th {\n",
       "        text-align: right;\n",
       "    }\n",
       "\n",
       "    .dataframe thead th {\n",
       "        text-align: left;\n",
       "    }\n",
       "\n",
       "    .dataframe tbody tr th {\n",
       "        vertical-align: top;\n",
       "    }\n",
       "</style>\n",
       "<table border=\"1\" class=\"dataframe\">\n",
       "  <thead>\n",
       "    <tr style=\"text-align: right;\">\n",
       "      <th></th>\n",
       "      <th>boiling point [K]</th>\n",
       "      <th>melting point [K]</th>\n",
       "      <th>thermal conductivity [W/(m k)]</th>\n",
       "      <th>lattice constant [pm]</th>\n",
       "    </tr>\n",
       "    <tr>\n",
       "      <th>Chemical</th>\n",
       "      <th></th>\n",
       "      <th></th>\n",
       "      <th></th>\n",
       "      <th></th>\n",
       "    </tr>\n",
       "  </thead>\n",
       "  <tbody>\n",
       "    <tr>\n",
       "      <th>Cu</th>\n",
       "      <td>3200.0</td>\n",
       "      <td>157.77</td>\n",
       "      <td>400.0</td>\n",
       "      <td>361.49</td>\n",
       "    </tr>\n",
       "    <tr>\n",
       "      <th>Re</th>\n",
       "      <td>2010.0</td>\n",
       "      <td>3459.00</td>\n",
       "      <td>48.0</td>\n",
       "      <td>276.10</td>\n",
       "    </tr>\n",
       "    <tr>\n",
       "      <th>C</th>\n",
       "      <td>4300.0</td>\n",
       "      <td>3800.00</td>\n",
       "      <td>140.0</td>\n",
       "      <td>246.40</td>\n",
       "    </tr>\n",
       "  </tbody>\n",
       "</table>\n",
       "</div>"
      ],
      "text/plain": [
       "          boiling point [K]  melting point [K]  \\\n",
       "Chemical                                         \n",
       "Cu                   3200.0             157.77   \n",
       "Re                   2010.0            3459.00   \n",
       "C                    4300.0            3800.00   \n",
       "\n",
       "          thermal conductivity [W/(m k)]   lattice constant [pm]  \n",
       "Chemical                                                          \n",
       "Cu                                 400.0                  361.49  \n",
       "Re                                  48.0                  276.10  \n",
       "C                                  140.0                  246.40  "
      ]
     },
     "execution_count": 13,
     "metadata": {},
     "output_type": "execute_result"
    }
   ],
   "source": [
    "\n",
    "atomic2=atomic.set_index('Chemical')\n",
    "outliers=['Cu','Re','C']\n",
    "columns=['boiling point [K]','melting point [K]','thermal conductivity [W/(m k)]',' lattice constant [pm]']\n",
    "atomic2.loc[outliers,columns]\n"
   ]
  },
  {
   "cell_type": "code",
   "execution_count": 14,
   "metadata": {},
   "outputs": [
    {
     "data": {
      "text/html": [
       "<div>\n",
       "<style>\n",
       "    .dataframe thead tr:only-child th {\n",
       "        text-align: right;\n",
       "    }\n",
       "\n",
       "    .dataframe thead th {\n",
       "        text-align: left;\n",
       "    }\n",
       "\n",
       "    .dataframe tbody tr th {\n",
       "        vertical-align: top;\n",
       "    }\n",
       "</style>\n",
       "<table border=\"1\" class=\"dataframe\">\n",
       "  <thead>\n",
       "    <tr style=\"text-align: right;\">\n",
       "      <th></th>\n",
       "      <th>boiling point [K]</th>\n",
       "      <th>melting point [K]</th>\n",
       "      <th>thermal conductivity [W/(m k)]</th>\n",
       "      <th>lattice constant [pm]</th>\n",
       "    </tr>\n",
       "  </thead>\n",
       "  <tbody>\n",
       "    <tr>\n",
       "      <th>count</th>\n",
       "      <td>81.000000</td>\n",
       "      <td>81.000000</td>\n",
       "      <td>81.000000</td>\n",
       "      <td>81.000000</td>\n",
       "    </tr>\n",
       "    <tr>\n",
       "      <th>mean</th>\n",
       "      <td>2540.179012</td>\n",
       "      <td>1319.117531</td>\n",
       "      <td>65.602099</td>\n",
       "      <td>440.660741</td>\n",
       "    </tr>\n",
       "    <tr>\n",
       "      <th>std</th>\n",
       "      <td>1555.397659</td>\n",
       "      <td>959.877796</td>\n",
       "      <td>84.303810</td>\n",
       "      <td>173.006380</td>\n",
       "    </tr>\n",
       "    <tr>\n",
       "      <th>min</th>\n",
       "      <td>20.280000</td>\n",
       "      <td>14.010000</td>\n",
       "      <td>0.010000</td>\n",
       "      <td>228.580000</td>\n",
       "    </tr>\n",
       "    <tr>\n",
       "      <th>25%</th>\n",
       "      <td>1180.000000</td>\n",
       "      <td>453.690000</td>\n",
       "      <td>13.000000</td>\n",
       "      <td>325.230000</td>\n",
       "    </tr>\n",
       "    <tr>\n",
       "      <th>50%</th>\n",
       "      <td>2742.000000</td>\n",
       "      <td>1208.000000</td>\n",
       "      <td>34.900000</td>\n",
       "      <td>380.340000</td>\n",
       "    </tr>\n",
       "    <tr>\n",
       "      <th>75%</th>\n",
       "      <td>3609.000000</td>\n",
       "      <td>1828.050000</td>\n",
       "      <td>91.000000</td>\n",
       "      <td>531.000000</td>\n",
       "    </tr>\n",
       "    <tr>\n",
       "      <th>max</th>\n",
       "      <td>5828.000000</td>\n",
       "      <td>3800.000000</td>\n",
       "      <td>430.000000</td>\n",
       "      <td>1145.000000</td>\n",
       "    </tr>\n",
       "  </tbody>\n",
       "</table>\n",
       "</div>"
      ],
      "text/plain": [
       "       boiling point [K]  melting point [K]  thermal conductivity [W/(m k)]  \\\n",
       "count          81.000000          81.000000                       81.000000   \n",
       "mean         2540.179012        1319.117531                       65.602099   \n",
       "std          1555.397659         959.877796                       84.303810   \n",
       "min            20.280000          14.010000                        0.010000   \n",
       "25%          1180.000000         453.690000                       13.000000   \n",
       "50%          2742.000000        1208.000000                       34.900000   \n",
       "75%          3609.000000        1828.050000                       91.000000   \n",
       "max          5828.000000        3800.000000                      430.000000   \n",
       "\n",
       "        lattice constant [pm]  \n",
       "count               81.000000  \n",
       "mean               440.660741  \n",
       "std                173.006380  \n",
       "min                228.580000  \n",
       "25%                325.230000  \n",
       "50%                380.340000  \n",
       "75%                531.000000  \n",
       "max               1145.000000  "
      ]
     },
     "execution_count": 14,
     "metadata": {},
     "output_type": "execute_result"
    }
   ],
   "source": [
    "atomic2.describe()[columns]"
   ]
  },
  {
   "cell_type": "markdown",
   "metadata": {},
   "source": [
    "Interesting that for Rhenium the melting point is higher than the boiling point. I am not a chemical engineer but is it possible?\n",
    "\n",
    "Interesting Enough Copper melts very easily but it is \"hard\" to boil\n",
    "\n",
    "Wil double check the facts on this webpage https://www.lenntech.com/periodic/name/alphabetic.htm"
   ]
  },
  {
   "cell_type": "markdown",
   "metadata": {},
   "source": [
    "Sure enough looks like the data is wrong\n",
    "\n",
    "for Rhenium in Celcius\n",
    "\n",
    "Melting point\n",
    "\n",
    "3170 °C\n",
    "\n",
    "Boiling point\n",
    "\n",
    "5627 °C\n",
    "\n",
    "\n",
    "\n",
    "Read more: https://www.lenntech.com/periodic/elements/re.htm#ixzz5rWg6NH5T"
   ]
  },
  {
   "cell_type": "code",
   "execution_count": 15,
   "metadata": {
    "collapsed": true
   },
   "outputs": [],
   "source": [
    "# Concert C to K\n",
    "def Celsius_to_Kelvin(C): \n",
    "    return (C + 273.15) "
   ]
  },
  {
   "cell_type": "code",
   "execution_count": 18,
   "metadata": {},
   "outputs": [],
   "source": [
    "atomic2['melting point [C]']=atomic2['melting point [K]'].apply(Celsius_to_Kelvin)\n",
    "atomic2['boiling point [C]']=atomic2['boiling point [K]'].apply(Celsius_to_Kelvin)"
   ]
  },
  {
   "cell_type": "code",
   "execution_count": 19,
   "metadata": {},
   "outputs": [],
   "source": [
    "columns=['boiling point [K]','boiling point [C]','melting point [K]','melting point [C]']"
   ]
  },
  {
   "cell_type": "code",
   "execution_count": 20,
   "metadata": {},
   "outputs": [
    {
     "data": {
      "text/html": [
       "<div>\n",
       "<style>\n",
       "    .dataframe thead tr:only-child th {\n",
       "        text-align: right;\n",
       "    }\n",
       "\n",
       "    .dataframe thead th {\n",
       "        text-align: left;\n",
       "    }\n",
       "\n",
       "    .dataframe tbody tr th {\n",
       "        vertical-align: top;\n",
       "    }\n",
       "</style>\n",
       "<table border=\"1\" class=\"dataframe\">\n",
       "  <thead>\n",
       "    <tr style=\"text-align: right;\">\n",
       "      <th></th>\n",
       "      <th>boiling point [K]</th>\n",
       "      <th>boiling point [C]</th>\n",
       "      <th>melting point [K]</th>\n",
       "      <th>melting point [C]</th>\n",
       "    </tr>\n",
       "    <tr>\n",
       "      <th>Chemical</th>\n",
       "      <th></th>\n",
       "      <th></th>\n",
       "      <th></th>\n",
       "      <th></th>\n",
       "    </tr>\n",
       "  </thead>\n",
       "  <tbody>\n",
       "    <tr>\n",
       "      <th>Cu</th>\n",
       "      <td>3200.0</td>\n",
       "      <td>3473.15</td>\n",
       "      <td>157.77</td>\n",
       "      <td>430.92</td>\n",
       "    </tr>\n",
       "    <tr>\n",
       "      <th>Re</th>\n",
       "      <td>2010.0</td>\n",
       "      <td>2283.15</td>\n",
       "      <td>3459.00</td>\n",
       "      <td>3732.15</td>\n",
       "    </tr>\n",
       "    <tr>\n",
       "      <th>C</th>\n",
       "      <td>4300.0</td>\n",
       "      <td>4573.15</td>\n",
       "      <td>3800.00</td>\n",
       "      <td>4073.15</td>\n",
       "    </tr>\n",
       "  </tbody>\n",
       "</table>\n",
       "</div>"
      ],
      "text/plain": [
       "          boiling point [K]  boiling point [C]  melting point [K]  \\\n",
       "Chemical                                                            \n",
       "Cu                   3200.0            3473.15             157.77   \n",
       "Re                   2010.0            2283.15            3459.00   \n",
       "C                    4300.0            4573.15            3800.00   \n",
       "\n",
       "          melting point [C]  \n",
       "Chemical                     \n",
       "Cu                   430.92  \n",
       "Re                  3732.15  \n",
       "C                   4073.15  "
      ]
     },
     "execution_count": 20,
     "metadata": {},
     "output_type": "execute_result"
    }
   ],
   "source": [
    "atomic2.loc[outliers,columns]"
   ]
  },
  {
   "cell_type": "markdown",
   "metadata": {},
   "source": [
    "As a data scientist not always believe in the data you see out there... people make mistakes\n",
    "\n",
    "The data for Melting point looks correct but definitively boiling point is looking a bit fishy"
   ]
  },
  {
   "cell_type": "code",
   "execution_count": 23,
   "metadata": {},
   "outputs": [
    {
     "data": {
      "text/html": [
       "<div>\n",
       "<style>\n",
       "    .dataframe thead tr:only-child th {\n",
       "        text-align: right;\n",
       "    }\n",
       "\n",
       "    .dataframe thead th {\n",
       "        text-align: left;\n",
       "    }\n",
       "\n",
       "    .dataframe tbody tr th {\n",
       "        vertical-align: top;\n",
       "    }\n",
       "</style>\n",
       "<table border=\"1\" class=\"dataframe\">\n",
       "  <thead>\n",
       "    <tr style=\"text-align: right;\">\n",
       "      <th></th>\n",
       "      <th>Chemical</th>\n",
       "      <th>melting point [K]</th>\n",
       "      <th>boiling point [K]</th>\n",
       "      <th>atomic radius [pm]</th>\n",
       "      <th>covalent radius [pm]</th>\n",
       "      <th>specific volume [cm3]</th>\n",
       "      <th>specific heat [J/(Kg K)]</th>\n",
       "      <th>thermal conductivity [W/(m k)]</th>\n",
       "      <th>Pauling electronegativity [Pauling scale]</th>\n",
       "      <th>first ionisation energy [kJ/mol]</th>\n",
       "      <th>lattice constant [pm]</th>\n",
       "    </tr>\n",
       "  </thead>\n",
       "  <tbody>\n",
       "    <tr>\n",
       "      <th>30</th>\n",
       "      <td>As</td>\n",
       "      <td>1090.0</td>\n",
       "      <td>887.0</td>\n",
       "      <td>115</td>\n",
       "      <td>119</td>\n",
       "      <td>12.95</td>\n",
       "      <td>328.0</td>\n",
       "      <td>50.0</td>\n",
       "      <td>2.18</td>\n",
       "      <td>947.0</td>\n",
       "      <td>375.98</td>\n",
       "    </tr>\n",
       "    <tr>\n",
       "      <th>70</th>\n",
       "      <td>Re</td>\n",
       "      <td>3459.0</td>\n",
       "      <td>2010.0</td>\n",
       "      <td>135</td>\n",
       "      <td>151</td>\n",
       "      <td>8.86</td>\n",
       "      <td>137.0</td>\n",
       "      <td>48.0</td>\n",
       "      <td>1.90</td>\n",
       "      <td>760.0</td>\n",
       "      <td>276.10</td>\n",
       "    </tr>\n",
       "  </tbody>\n",
       "</table>\n",
       "</div>"
      ],
      "text/plain": [
       "   Chemical  melting point [K]  boiling point [K]  atomic radius [pm]  \\\n",
       "30       As             1090.0              887.0                 115   \n",
       "70       Re             3459.0             2010.0                 135   \n",
       "\n",
       "    covalent radius [pm]  specific volume [cm3]  specific heat [J/(Kg K)]  \\\n",
       "30                   119                  12.95                     328.0   \n",
       "70                   151                   8.86                     137.0   \n",
       "\n",
       "    thermal conductivity [W/(m k)]  Pauling electronegativity [Pauling scale]  \\\n",
       "30                            50.0                                       2.18   \n",
       "70                            48.0                                       1.90   \n",
       "\n",
       "    first ionisation energy [kJ/mol]   lattice constant [pm]  \n",
       "30                             947.0                  375.98  \n",
       "70                             760.0                  276.10  "
      ]
     },
     "execution_count": 23,
     "metadata": {},
     "output_type": "execute_result"
    }
   ],
   "source": [
    "# find where the data looks fishy\n",
    "\n",
    "atomic[atomic['boiling point [K]']<atomic['melting point [K]']]"
   ]
  },
  {
   "cell_type": "markdown",
   "metadata": {},
   "source": [
    "Suggestion for next step is to scrape the data from https://www.lenntech.com/periodic/name/alphabetic.htm and redo the analysis "
   ]
  },
  {
   "cell_type": "code",
   "execution_count": null,
   "metadata": {
    "collapsed": true
   },
   "outputs": [],
   "source": []
  }
 ],
 "metadata": {
  "kernelspec": {
   "display_name": "Python 3",
   "language": "python",
   "name": "python3"
  },
  "language_info": {
   "codemirror_mode": {
    "name": "ipython",
    "version": 3
   },
   "file_extension": ".py",
   "mimetype": "text/x-python",
   "name": "python",
   "nbconvert_exporter": "python",
   "pygments_lexer": "ipython3",
   "version": "3.6.1"
  }
 },
 "nbformat": 4,
 "nbformat_minor": 2
}
